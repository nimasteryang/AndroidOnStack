{
  "nbformat": 4,
  "nbformat_minor": 0,
  "metadata": {
    "colab": {
      "name": "data_process.ipynb",
      "provenance": [],
      "collapsed_sections": [],
      "authorship_tag": "ABX9TyPZxvUiN7Y2gRihU2TqkCRD",
      "include_colab_link": true
    },
    "kernelspec": {
      "name": "python3",
      "display_name": "Python 3"
    },
    "language_info": {
      "name": "python"
    }
  },
  "cells": [
    {
      "cell_type": "markdown",
      "metadata": {
        "id": "view-in-github",
        "colab_type": "text"
      },
      "source": [
        "<a href=\"https://colab.research.google.com/github/nimasteryang/AndroidOnStack/blob/main/data_process.ipynb\" target=\"_parent\"><img src=\"https://colab.research.google.com/assets/colab-badge.svg\" alt=\"Open In Colab\"/></a>"
      ]
    },
    {
      "cell_type": "code",
      "metadata": {
        "id": "x-_nG1uDZRWY"
      },
      "source": [
        "# Install required packages.\n",
        "!pip install -q torch-scatter -f https://pytorch-geometric.com/whl/torch-1.9.0+cu102.html\n",
        "!pip install -q torch-sparse -f https://pytorch-geometric.com/whl/torch-1.9.0+cu102.html\n",
        "!pip install -q torch-geometric"
      ],
      "execution_count": 1,
      "outputs": []
    },
    {
      "cell_type": "code",
      "metadata": {
        "id": "H91q34Kwe6gF"
      },
      "source": [
        "from gensim.models.word2vec import Word2Vec\n",
        "import re\n",
        "import vul_model,parse\n",
        "import pandas as pd\n",
        "import torch\n",
        "from torch_geometric.data import Data, InMemoryDataset"
      ],
      "execution_count": 85,
      "outputs": []
    },
    {
      "cell_type": "code",
      "metadata": {
        "colab": {
          "base_uri": "https://localhost:8080/",
          "height": 150
        },
        "id": "Xylsg-uSanD8",
        "outputId": "c7dee187-bbf1-4494-b389-93d443e07c72"
      },
      "source": [
        "filename = \"/content/devign_one_output.json\"\n",
        "df = pd.read_json(filename)\n",
        "df.head()"
      ],
      "execution_count": 3,
      "outputs": [
        {
          "output_type": "execute_result",
          "data": {
            "text/html": [
              "<div>\n",
              "<style scoped>\n",
              "    .dataframe tbody tr th:only-of-type {\n",
              "        vertical-align: middle;\n",
              "    }\n",
              "\n",
              "    .dataframe tbody tr th {\n",
              "        vertical-align: top;\n",
              "    }\n",
              "\n",
              "    .dataframe thead th {\n",
              "        text-align: right;\n",
              "    }\n",
              "</style>\n",
              "<table border=\"1\" class=\"dataframe\">\n",
              "  <thead>\n",
              "    <tr style=\"text-align: right;\">\n",
              "      <th></th>\n",
              "      <th>target</th>\n",
              "      <th>func</th>\n",
              "      <th>CPG</th>\n",
              "      <th>CDG</th>\n",
              "      <th>DDG</th>\n",
              "      <th>No2St</th>\n",
              "    </tr>\n",
              "  </thead>\n",
              "  <tbody>\n",
              "    <tr>\n",
              "      <th>0</th>\n",
              "      <td>0</td>\n",
              "      <td>static void v4l2_free_buffer(void *opaque, uin...</td>\n",
              "      <td>digraph v4l2_free_buffer {  \\r\\n\"1000100\" [lab...</td>\n",
              "      <td>digraph v4l2_free_buffer {  \\r\\n\"1000114\" [lab...</td>\n",
              "      <td>digraph v4l2_free_buffer {  \\r\\n\"1000100\" [lab...</td>\n",
              "      <td>{'1': [{'1000100': 'static void v4l2_free_buff...</td>\n",
              "    </tr>\n",
              "  </tbody>\n",
              "</table>\n",
              "</div>"
            ],
            "text/plain": [
              "   target  ...                                              No2St\n",
              "0       0  ...  {'1': [{'1000100': 'static void v4l2_free_buff...\n",
              "\n",
              "[1 rows x 6 columns]"
            ]
          },
          "metadata": {
            "tags": []
          },
          "execution_count": 3
        }
      ]
    },
    {
      "cell_type": "code",
      "metadata": {
        "id": "5LloOkmWcKHm"
      },
      "source": [
        "code = df.func.values[0]\n",
        "no_2_st = df.No2St.values[0]\n",
        "no_2_st_dict = dict([int(key), value] for key, value in no_2_st.items()) "
      ],
      "execution_count": 50,
      "outputs": []
    },
    {
      "cell_type": "markdown",
      "metadata": {
        "id": "tKqFfeLtoX_y"
      },
      "source": [
        "W2V MODEL"
      ]
    },
    {
      "cell_type": "code",
      "metadata": {
        "colab": {
          "base_uri": "https://localhost:8080/"
        },
        "id": "0McLwtHLgNYj",
        "outputId": "4f9413c4-1725-4fb9-a5e2-3728de3790ce"
      },
      "source": [
        "token_code = parse.tokenizer(code)\n",
        "model = Word2Vec([token_code], min_count=1)\n",
        "print(model)"
      ],
      "execution_count": 5,
      "outputs": [
        {
          "output_type": "stream",
          "text": [
            "Word2Vec(vocab=40, size=100, alpha=0.025)\n"
          ],
          "name": "stdout"
        }
      ]
    },
    {
      "cell_type": "code",
      "metadata": {
        "id": "zYfvPNtZo4NU"
      },
      "source": [
        "import pydot\n",
        "import networkx as nx\n",
        "%matplotlib inline\n",
        "import matplotlib.pyplot as plt"
      ],
      "execution_count": 6,
      "outputs": []
    },
    {
      "cell_type": "code",
      "metadata": {
        "id": "KTuZQ3cZvBB5"
      },
      "source": [
        "cpg_graph = df.CPG.values[0]\n",
        "pydot_graph = pydot.graph_from_dot_data(cpg_graph)\n",
        "G_non_label = nx.drawing.nx_pydot.from_pydot(pydot_graph[0])\n",
        "G_label = nx.relabel_nodes(G_non_label,lambda x: int(x) - 1000099)"
      ],
      "execution_count": 67,
      "outputs": []
    },
    {
      "cell_type": "code",
      "metadata": {
        "id": "jsAUMxoxwH1J"
      },
      "source": [
        "def draw(_G):\n",
        "  nx.draw(_G,nx.spring_layout(_G))\n",
        "  labels = nx.draw_networkx_labels(_G, pos=nx.nx_pydot.graphviz_layout(_G, prog='dot'))\n",
        "def ast_from_cpg(_cpg_graph):\n",
        "  ast_edges = [(u,v,'') for u,v,d in _cpg_graph.edges(data = True) if \"AST\" in d['label']]\n",
        "  ast_edges_attr = [(u,v,d) for u,v,d in _cpg_graph.edges(data = True) if \"AST\" in d['label']]\n",
        "  ast_graph = _cpg_graph.edge_subgraph(ast_edges).copy()\n",
        "  for u,v,d in ast_edges_attr:\n",
        "    ast_graph.add_edge(u,v,label=d.get('label'))\n",
        "  return ast_graph\n",
        "\n",
        "def pdg_from_cpg(_cpg_graph):\n",
        "  pdg_edges = [(u,v,'') for u,v,d in _cpg_graph.edges(data = True) if \"DDG\" in d['label']]\n",
        "  pdg_edges_attr = [(u,v,d) for u,v,d in _cpg_graph.edges(data = True) if \"DDG\" in d['label']]\n",
        "  pdg_graph = _cpg_graph.edge_subgraph(pdg_edges).copy()\n",
        "  for u,v,d in pdg_edges_attr:\n",
        "    pdg_graph.add_edge(u,v,label=d.get('label'))\n",
        "  return pdg_graph"
      ],
      "execution_count": 23,
      "outputs": []
    },
    {
      "cell_type": "code",
      "metadata": {
        "colab": {
          "base_uri": "https://localhost:8080/"
        },
        "id": "YZZxkAU-FPp7",
        "outputId": "bdaf1fc8-2e04-4275-e7cc-0872e73578e0"
      },
      "source": [
        "pdg_graph = pdg_from_cpg(G_label)\n",
        "list(pdg_graph)"
      ],
      "execution_count": 68,
      "outputs": [
        {
          "output_type": "execute_result",
          "data": {
            "text/plain": [
              "[1, 2, 3, 37, 38, 6, 10, 43, 12, 15, 16, 55, 24, 57, 62]"
            ]
          },
          "metadata": {
            "tags": []
          },
          "execution_count": 68
        }
      ]
    },
    {
      "cell_type": "code",
      "metadata": {
        "colab": {
          "base_uri": "https://localhost:8080/"
        },
        "id": "2vR1UktvFWOG",
        "outputId": "5960f91b-20d2-48d9-e35d-4f766864646d"
      },
      "source": [
        "ast_graph = ast_from_cpg(G_label)\n",
        "ast_graph.number_of_nodes()"
      ],
      "execution_count": 69,
      "outputs": [
        {
          "output_type": "execute_result",
          "data": {
            "text/plain": [
              "62"
            ]
          },
          "metadata": {
            "tags": []
          },
          "execution_count": 69
        }
      ]
    },
    {
      "cell_type": "code",
      "metadata": {
        "id": "RRTAijPfGNUh"
      },
      "source": [
        "pdg_edge_dict = {}\n",
        "for u,v,d in pdg_graph.edges(data = True):\n",
        "  pdg_edge_dict[u] = v"
      ],
      "execution_count": 70,
      "outputs": []
    },
    {
      "cell_type": "code",
      "metadata": {
        "colab": {
          "base_uri": "https://localhost:8080/"
        },
        "id": "kZIlouhXJRcl",
        "outputId": "0250fbb9-635d-491c-de3f-01707265dccd"
      },
      "source": [
        "print(pdg_edge_dict)"
      ],
      "execution_count": 71,
      "outputs": [
        {
          "output_type": "stream",
          "text": [
            "{1: 55, 2: 6, 3: 62, 37: 62, 38: 62, 6: 62, 10: 62, 43: 62, 12: 55, 15: 62, 16: 62, 55: 62, 24: 38, 57: 62}\n"
          ],
          "name": "stdout"
        }
      ]
    },
    {
      "cell_type": "code",
      "metadata": {
        "id": "3gpl_PH6RRXH"
      },
      "source": [
        "def generate_big_graph_int(edge_list):\n",
        "    # This one is used to generate the overall PDG for a method\n",
        "    in_ = []\n",
        "    out_ = []\n",
        "    for key,value in edge_list.items():\n",
        "        in_.append(key)\n",
        "        out_.append(value)\n",
        "    output = torch.tensor([in_, out_])\n",
        "    graph_data = Data(edge_list=torch.tensor(output))\n",
        "    return graph_data"
      ],
      "execution_count": 81,
      "outputs": []
    },
    {
      "cell_type": "code",
      "metadata": {
        "colab": {
          "base_uri": "https://localhost:8080/"
        },
        "id": "BDG8sxCHJ7YF",
        "outputId": "f66aa625-82e2-4aa1-bae9-a557fcd290ec"
      },
      "source": [
        "pdg_big_graph = generate_big_graph_int(pdg_edge_dict)"
      ],
      "execution_count": 86,
      "outputs": [
        {
          "output_type": "stream",
          "text": [
            "/usr/local/lib/python3.7/dist-packages/ipykernel_launcher.py:9: UserWarning: To copy construct from a tensor, it is recommended to use sourceTensor.clone().detach() or sourceTensor.clone().detach().requires_grad_(True), rather than torch.tensor(sourceTensor).\n",
            "  if __name__ == '__main__':\n"
          ],
          "name": "stderr"
        }
      ]
    },
    {
      "cell_type": "code",
      "metadata": {
        "colab": {
          "base_uri": "https://localhost:8080/",
          "height": 319
        },
        "id": "Kl7hw6akSS7d",
        "outputId": "a28ea8b4-0024-46a9-e8dc-a2d0506fcc12"
      },
      "source": [
        "draw(pdg_graph)"
      ],
      "execution_count": 90,
      "outputs": [
        {
          "output_type": "display_data",
          "data": {
            "image/png": "[encoded data removed]",
            "text/plain": [
              "<Figure size 432x288 with 1 Axes>"
            ]
          },
          "metadata": {
            "tags": []
          }
        }
      ]
    },
    {
      "cell_type": "code",
      "metadata": {
        "id": "KslXIKqdTN0m"
      },
      "source": [
        ""
      ],
      "execution_count": null,
      "outputs": []
    }
  ]
}